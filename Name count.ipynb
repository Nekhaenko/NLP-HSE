{
 "cells": [
  {
   "cell_type": "code",
   "execution_count": 6,
   "metadata": {
    "collapsed": false
   },
   "outputs": [],
   "source": [
    "import pymorphy2\n",
    "morph = pymorphy2.MorphAnalyzer()"
   ]
  },
  {
   "cell_type": "code",
   "execution_count": 8,
   "metadata": {
    "collapsed": false
   },
   "outputs": [],
   "source": [
    "s = 'names.txt'\n",
    "f = open(s, 'r', encoding= 'utf-8')\n",
    "\n",
    "name_list = f.readlines()[8:]\n",
    "f.close()"
   ]
  },
  {
   "cell_type": "code",
   "execution_count": 36,
   "metadata": {
    "collapsed": false
   },
   "outputs": [
    {
     "name": "stdout",
     "output_type": "stream",
     "text": [
      "women:  37\n",
      "men:  139\n",
      "none:  41\n"
     ]
    }
   ],
   "source": [
    "men = 0\n",
    "women =0\n",
    "none = 0\n",
    "\n",
    "for i in name_list:\n",
    "    text_len = len(i.split())\n",
    "    if text_len > 1:\n",
    "        parsed_word = morph.parse(i[0: i.find(',')])[0]\n",
    "        if parsed_word.tag.gender == 'femn':\n",
    "            women += 1\n",
    "        elif parsed_word.tag.gender == 'masc':\n",
    "            men += 1\n",
    "        else:\n",
    "            none += 1\n",
    "\n",
    "print('women: ', women)\n",
    "print('men: ', men)\n",
    "print('none: ', none)"
   ]
  },
  {
   "cell_type": "code",
   "execution_count": null,
   "metadata": {
    "collapsed": true
   },
   "outputs": [],
   "source": []
  }
 ],
 "metadata": {
  "kernelspec": {
   "display_name": "Python 3",
   "language": "python",
   "name": "python3"
  },
  "language_info": {
   "codemirror_mode": {
    "name": "ipython",
    "version": 3
   },
   "file_extension": ".py",
   "mimetype": "text/x-python",
   "name": "python",
   "nbconvert_exporter": "python",
   "pygments_lexer": "ipython3",
   "version": "3.6.6"
  }
 },
 "nbformat": 4,
 "nbformat_minor": 2
}
